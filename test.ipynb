{
 "cells": [
  {
   "cell_type": "code",
   "execution_count": 1,
   "id": "0b265886",
   "metadata": {},
   "outputs": [
    {
     "data": {
      "text/plain": [
       "<wordcloud.wordcloud.WordCloud at 0x1a2b77f7ef0>"
      ]
     },
     "execution_count": 1,
     "metadata": {},
     "output_type": "execute_result"
    }
   ],
   "source": [
    "from urllib.request import urlopen\n",
    "from bs4 import BeautifulSoup\n",
    "import re\n",
    "from collections import Counter\n",
    "from wordcloud import WordCloud\n",
    "import random as rd\n",
    "\n",
    "page = 1\n",
    "page = min(page,35)\n",
    "\n",
    "object = []\n",
    "cloud = dict()\n",
    "\n",
    "for i in range(1,page+1):\n",
    "    url = \"https://finance.naver.com/sise/sise_market_sum.nhn?sosok=0&page=\"+str(i)\n",
    "\n",
    "    html = urlopen(url)\n",
    "    soup = BeautifulSoup(html, 'html.parser')\n",
    "\n",
    "    list = soup.find_all(\"tr\")\n",
    "\n",
    "    for i in list[7:86]:\n",
    "        if len(i)==1 :continue\n",
    "        ob = dict()\n",
    "        t = i.text.split()\n",
    "        #ob[t[1]] = t\n",
    "        cloud[t[1]] = int(int(re.sub(\"[.,%]\",\"\",t[9]))/10000)\n",
    "\n",
    "        ob[\"순위\"] = int(t[0])\n",
    "        ob[\"종목이름\"] = t[1]\n",
    "        ob[\"가격\"] = int(re.sub(\",\",\"\",t[2]))\n",
    "        ob[\"전일비\"] = int(re.sub(\"[,%]\",\"\",t[3]))\n",
    "        ob[\"등락률\"] = float(re.sub(\"[+,%]\",\"\",t[4]))\n",
    "        ob[\"시가총액\"] = int(re.sub(\",\",\"\",t[6]))\n",
    "        ob[\"거래량\"] = int(re.sub(\",\",\"\",t[9]))\n",
    "        \n",
    "        object.append(ob)\n",
    "\n",
    "c = Counter(cloud)\n",
    "tag = c.most_common(50)\n",
    "\n",
    "path = \"C:/Users/Taewoo/Anaconda3/Lib/site-packages/wordcloud/abc.ttf\"\n",
    "wc = WordCloud(font_path=path , background_color=\"white\", width=1000,height=700, max_words=60, max_font_size=200)\n",
    "\n",
    "#wc = WordCloud( background_color=\"white\", width=1000,height=700, max_words=60, max_font_size=200)\n",
    "wc.generate_from_frequencies(dict(tag))\n",
    "wc.to_file(str('./images/cloudImage' + str(rd.randint(0,999)) +'.png'))"
   ]
  },
  {
   "cell_type": "code",
   "execution_count": null,
   "id": "5f848bf8",
   "metadata": {},
   "outputs": [],
   "source": []
  }
 ],
 "metadata": {
  "kernelspec": {
   "display_name": "Python 3 (ipykernel)",
   "language": "python",
   "name": "python3"
  },
  "language_info": {
   "codemirror_mode": {
    "name": "ipython",
    "version": 3
   },
   "file_extension": ".py",
   "mimetype": "text/x-python",
   "name": "python",
   "nbconvert_exporter": "python",
   "pygments_lexer": "ipython3",
   "version": "3.7.3"
  }
 },
 "nbformat": 4,
 "nbformat_minor": 5
}
